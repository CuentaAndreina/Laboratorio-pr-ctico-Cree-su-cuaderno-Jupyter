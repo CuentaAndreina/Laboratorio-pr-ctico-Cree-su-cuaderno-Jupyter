{
 "cells": [
  {
   "cell_type": "markdown",
   "id": "348ab95d-45be-486e-ba43-768021c13c05",
   "metadata": {},
   "source": [
    "# Data Science Tools and Ecosystem"
   ]
  },
  {
   "cell_type": "markdown",
   "id": "21ba74e7-01cc-4217-98f6-7affe905ff49",
   "metadata": {},
   "source": [
    "### In this notebook, Data Science Tools and Ecosystem are summarized."
   ]
  },
  {
   "cell_type": "markdown",
   "id": "2024d54f-f22c-4317-b04a-1fd2c4a62594",
   "metadata": {
    "tags": []
   },
   "source": [
    "__Objectives:__\n",
    "+ List popular languages for Data Science\n",
    "+ List commonly used Data Science libraries\n",
    "+ List Data Science tools\n",
    "+ Arithmetic expression examples"
   ]
  },
  {
   "cell_type": "markdown",
   "id": "92f9089e-20d7-48ab-9ae7-5360d75f6034",
   "metadata": {},
   "source": [
    "#### Some of the popular languages that Data Scientists use are:\n",
    "1. Python\n",
    "2. R\n",
    "3. SQL"
   ]
  },
  {
   "cell_type": "markdown",
   "id": "45e8ed90-9bba-4250-9653-475734917a75",
   "metadata": {},
   "source": [
    "#### Some of the commonly used libraries used by Data Scientists include:\n",
    "1. Pandas\n",
    "2. NumPy\n",
    "3. Matplotlib"
   ]
  },
  {
   "cell_type": "markdown",
   "id": "3566827e-d266-491d-8dff-9fae3b021600",
   "metadata": {},
   "source": [
    "|Data Science Tools| \n",
    "| -------------|\n",
    "|Jupyter Notebook|\n",
    "|RStudio|\n",
    "|Apache Spark|\n"
   ]
  },
  {
   "cell_type": "markdown",
   "id": "3e4fff35-247e-4b31-902f-caa35a2743c0",
   "metadata": {},
   "source": [
    "### Below are a few examples of evaluating arithmetic expressions in Python"
   ]
  },
  {
   "cell_type": "code",
   "execution_count": 1,
   "id": "5b033448-7bd6-4f23-81a8-e3d1c16270ad",
   "metadata": {
    "tags": []
   },
   "outputs": [
    {
     "data": {
      "text/plain": [
       "17"
      ]
     },
     "execution_count": 1,
     "metadata": {},
     "output_type": "execute_result"
    }
   ],
   "source": [
    "# This a simple arithmetic expression to mutiply then add integers\n",
    "(3*4)+5"
   ]
  },
  {
   "cell_type": "code",
   "execution_count": 2,
   "id": "ce94ee92-37f9-4196-87a2-f0d5168a6b76",
   "metadata": {
    "tags": []
   },
   "outputs": [
    {
     "data": {
      "text/plain": [
       "3.3333333333333335"
      ]
     },
     "execution_count": 2,
     "metadata": {},
     "output_type": "execute_result"
    }
   ],
   "source": [
    "# This will convert 200 minutes to hours by diving by 60\n",
    "200/60"
   ]
  },
  {
   "cell_type": "markdown",
   "id": "2c0b4364-bc70-4985-8d18-776299d7d904",
   "metadata": {},
   "source": [
    "## Author\n",
    "Andreina "
   ]
  },
  {
   "cell_type": "code",
   "execution_count": null,
   "id": "98becdc1-9ace-454f-9bc2-d19582d8d387",
   "metadata": {},
   "outputs": [],
   "source": []
  }
 ],
 "metadata": {
  "kernelspec": {
   "display_name": "Python",
   "language": "python",
   "name": "conda-env-python-py"
  },
  "language_info": {
   "codemirror_mode": {
    "name": "ipython",
    "version": 3
   },
   "file_extension": ".py",
   "mimetype": "text/x-python",
   "name": "python",
   "nbconvert_exporter": "python",
   "pygments_lexer": "ipython3",
   "version": "3.7.12"
  }
 },
 "nbformat": 4,
 "nbformat_minor": 5
}
